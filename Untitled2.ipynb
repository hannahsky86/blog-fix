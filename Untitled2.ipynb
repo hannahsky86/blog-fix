{
 "cells": [
  {
   "cell_type": "code",
   "execution_count": 27,
   "metadata": {},
   "outputs": [
    {
     "name": "stdout",
     "output_type": "stream",
     "text": [
      "3\n",
      "[2, 6, 2]\n",
      "[1, 3, 1]\n"
     ]
    }
   ],
   "source": [
    "k = 3\n",
    "n = 6\n",
    "ar = [1, 3, 2, 6, 1, 2]\n",
    "cnt=0\n",
    "\n",
    "is_even = True if k%2==0 else False\n",
    "even_list = []\n",
    "odd_list = []\n",
    "for i in range(0,n):\n",
    "    if ar[i]%2==0:\n",
    "        even_list.append(ar[i])\n",
    "    else:\n",
    "        odd_list.append(ar[i])\n",
    "\n",
    "if k%2==0:\n",
    "    x = len(even_list)\n",
    "else:\n",
    "    x =  len(odd_list)\n",
    "    \n",
    "for i in range(0,x):\n",
    "    (even_list[i]+odd_list[i])%k==0\n",
    "    cnt+=1\n",
    "\n",
    "print(cnt)\n",
    "print(even_list)\n",
    "print(odd_list)\n",
    "\n",
    "        \n",
    "    \n",
    "#     for j in range(i,n):\n",
    "#         if (ar[i]+ar[j])%k == 0:\n",
    "#             cnt+=1\n",
    "\n",
    "# print(cnt)"
   ]
  },
  {
   "cell_type": "code",
   "execution_count": null,
   "metadata": {},
   "outputs": [],
   "source": []
  }
 ],
 "metadata": {
  "kernelspec": {
   "display_name": "Python 3",
   "language": "python",
   "name": "python3"
  },
  "language_info": {
   "codemirror_mode": {
    "name": "ipython",
    "version": 3
   },
   "file_extension": ".py",
   "mimetype": "text/x-python",
   "name": "python",
   "nbconvert_exporter": "python",
   "pygments_lexer": "ipython3",
   "version": "3.7.1"
  }
 },
 "nbformat": 4,
 "nbformat_minor": 2
}
