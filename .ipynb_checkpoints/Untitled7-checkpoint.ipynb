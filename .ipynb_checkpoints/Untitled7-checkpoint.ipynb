{
 "cells": [
  {
   "cell_type": "code",
   "execution_count": 54,
   "metadata": {},
   "outputs": [
    {
     "name": "stdout",
     "output_type": "stream",
     "text": [
      "[1, 2, 3, 4, 5, 6, 7, 8, 9, 10, 11, 12, 13, 14, 15, 16]\n",
      "5\n"
     ]
    }
   ],
   "source": [
    "\n",
    "# a_array = 1\n",
    "# b_array = [16, 32, 96]\n",
    "\n",
    "a_array = [2, 4]\n",
    "b_array = [16, 32, 96]\n",
    "\n",
    "    max_a=max(a_array)\n",
    "    if type(a_array)==int: \n",
    "        max_a=a_array\n",
    "     \n",
    "    min_b=min(b_array)\n",
    "    \n",
    "    items = [] \n",
    "    x=1\n",
    "    while max_a*x<=min_b: \n",
    "        \n",
    "        if type(a_array)==int:\n",
    "            if (max_a*x)%a_array==0:\n",
    "                items.append(max_a*x)\n",
    "        else:\n",
    "            cnt = 0\n",
    "            for a in a_array: \n",
    "                if (max_a*x)%a==0:\n",
    "                    cnt+=1\n",
    "                if cnt==len(a_array):\n",
    "                    items.append(max_a*x)\n",
    "                    break\n",
    "        x+=1\n",
    "    total = 0 \n",
    "    for i in items: \n",
    "        cnt = 0 \n",
    "        for b in b_array: \n",
    "            if b%i == 0:\n",
    "                cnt+=1\n",
    "            if cnt==len(b_array):\n",
    "                total+=1\n",
    "                break\n",
    "\n",
    "print(total)\n",
    "\n"
   ]
  },
  {
   "cell_type": "code",
   "execution_count": null,
   "metadata": {},
   "outputs": [],
   "source": []
  }
 ],
 "metadata": {
  "kernelspec": {
   "display_name": "Python 3",
   "language": "python",
   "name": "python3"
  },
  "language_info": {
   "codemirror_mode": {
    "name": "ipython",
    "version": 3
   },
   "file_extension": ".py",
   "mimetype": "text/x-python",
   "name": "python",
   "nbconvert_exporter": "python",
   "pygments_lexer": "ipython3",
   "version": "3.7.1"
  }
 },
 "nbformat": 4,
 "nbformat_minor": 2
}
