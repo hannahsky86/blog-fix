{
 "cells": [
  {
   "cell_type": "code",
   "execution_count": 44,
   "metadata": {},
   "outputs": [
    {
     "name": "stdout",
     "output_type": "stream",
     "text": [
      "4 0\n"
     ]
    }
   ],
   "source": [
    "# scores = [10,5,20,20,4,5,2,25,1]\n",
    "scores = [3, 4, 21, 36, 10, 28, 35, 5, 24, 42]\n",
    "\n",
    "min_score = scores[0]\n",
    "max_score = scores[0]\n",
    "\n",
    "cnt_min = 0\n",
    "cnt_max = 0 \n",
    "\n",
    "for i in range(1, len(scores)):\n",
    "    if scores[i]>max_score:\n",
    "        max_score = scores[i]\n",
    "        cnt_max+=1\n",
    "    if scores[i]<min_score:\n",
    "        min_score = scores[i]\n",
    "        cnt_min+=1\n",
    "        \n",
    "print(str(cnt_max) + \" \" + str(cnt_min))\n",
    "\n",
    "    \n"
   ]
  },
  {
   "cell_type": "code",
   "execution_count": null,
   "metadata": {},
   "outputs": [],
   "source": []
  }
 ],
 "metadata": {
  "kernelspec": {
   "display_name": "Python 3",
   "language": "python",
   "name": "python3"
  },
  "language_info": {
   "codemirror_mode": {
    "name": "ipython",
    "version": 3
   },
   "file_extension": ".py",
   "mimetype": "text/x-python",
   "name": "python",
   "nbconvert_exporter": "python",
   "pygments_lexer": "ipython3",
   "version": "3.7.1"
  }
 },
 "nbformat": 4,
 "nbformat_minor": 2
}
