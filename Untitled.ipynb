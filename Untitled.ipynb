{
 "cells": [
  {
   "cell_type": "code",
   "execution_count": 35,
   "metadata": {},
   "outputs": [
    {
     "name": "stdout",
     "output_type": "stream",
     "text": [
      "3\n"
     ]
    }
   ],
   "source": [
    "a_array = [2, 4]\n",
    "b_array = [16, 32, 96]\n",
    "\n",
    "def getTotalX(a_array, b_array):\n",
    "\n",
    "    max_a=a_array if type(a_array)==int else max(a_array)\n",
    "    min_b=b_array if type(b_array)==int else max(b_array)\n",
    "\n",
    "    items = [] \n",
    "    x=1\n",
    "    while max_a*x<=min_b: \n",
    "\n",
    "        if type(a_array)==int:\n",
    "            items.append(max_a*x) if (max_a*x)%a_array == 0 else 0  \n",
    "        else:\n",
    "            items.append(max_a*x) if sum([(max_a*x)%a for a in a_array]) == 0 else 0\n",
    "        x+=1\n",
    "        \n",
    "    total = 0 \n",
    "    for i in items: \n",
    "        total+=1 if sum([b%i for b in b_array]) == 0 else 0\n",
    "    return total\n",
    "                    \n",
    "print(total)"
   ]
  },
  {
   "cell_type": "code",
   "execution_count": null,
   "metadata": {},
   "outputs": [],
   "source": []
  }
 ],
 "metadata": {
  "kernelspec": {
   "display_name": "Python 3",
   "language": "python",
   "name": "python3"
  },
  "language_info": {
   "codemirror_mode": {
    "name": "ipython",
    "version": 3
   },
   "file_extension": ".py",
   "mimetype": "text/x-python",
   "name": "python",
   "nbconvert_exporter": "python",
   "pygments_lexer": "ipython3",
   "version": "3.7.1"
  }
 },
 "nbformat": 4,
 "nbformat_minor": 2
}
