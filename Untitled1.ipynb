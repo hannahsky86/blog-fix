{
 "cells": [
  {
   "cell_type": "code",
   "execution_count": 18,
   "metadata": {},
   "outputs": [
    {
     "name": "stdout",
     "output_type": "stream",
     "text": [
      "<class 'int'>\n"
     ]
    }
   ],
   "source": [
    "# s = [1, 2, 1, 3, 2]\n",
    "# d = 3\n",
    "# m = 2\n",
    "\n",
    "# s = [1, 1, 1, 1, 1, 1]\n",
    "# d = 3\n",
    "# m = 2\n",
    "\n",
    "s = 4\n",
    "d = 4 \n",
    "m = 1\n",
    "\n",
    "cnt = 0\n",
    "\n",
    "\n",
    "if type(s) == int: \n",
    "    return 1 if d == s then 1\n",
    "    if d == s:\n",
    "        return 1\n",
    "    else: \n",
    "        return 0\n",
    "else: \n",
    "    for i in range(0,len(s)-1):\n",
    "        total = sum(s[i:(i+m)])\n",
    "        if total == d: \n",
    "            cnt+=1\n",
    "print(cnt)"
   ]
  },
  {
   "cell_type": "code",
   "execution_count": null,
   "metadata": {},
   "outputs": [],
   "source": []
  }
 ],
 "metadata": {
  "kernelspec": {
   "display_name": "Python 3",
   "language": "python",
   "name": "python3"
  },
  "language_info": {
   "codemirror_mode": {
    "name": "ipython",
    "version": 3
   },
   "file_extension": ".py",
   "mimetype": "text/x-python",
   "name": "python",
   "nbconvert_exporter": "python",
   "pygments_lexer": "ipython3",
   "version": "3.7.1"
  }
 },
 "nbformat": 4,
 "nbformat_minor": 2
}
